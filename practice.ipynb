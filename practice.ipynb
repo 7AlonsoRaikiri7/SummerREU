{
 "cells": [
  {
   "cell_type": "code",
   "execution_count": null,
   "id": "db09ad87-f273-4240-a1ae-115abba18fc7",
   "metadata": {},
   "outputs": [],
   "source": [
    "import glob\n",
    "import netCDF4\n",
    "import xarray \n",
    "import numpy as np\n",
    "import datetime as dt\n",
    "import pandas as pd\n",
    "from pandas import DataFrame\n",
    "from math import *\n",
    "\n",
    "import os\n",
    "import csv\n",
    "import numpy as np                  # For doing math\n",
    "import matplotlib.pyplot as plt     # For plotting\n",
    "import matplotlib.dates as mdates   # For formatting dates when plotting\n",
    "import matplotlib.colors as colors  # For truncating colorbars\n",
    "import matplotlib.style as style\n",
    "import xarray as xr                 # For dealing with netCDF data\n",
    "import pandas as pd                 # A quick way to deal with time stamps\n",
    "import cartopy.crs as ccrs\n",
    "from polar_stereo_function import circular_polar_plot"
   ]
  },
  {
   "cell_type": "code",
   "execution_count": null,
   "id": "ebba9b7b-a9d1-4447-9ad9-e5c4b02c90d5",
   "metadata": {},
   "outputs": [],
   "source": [
    "file   = 'MERRA2_300.inst3_3d_asm_Np.20090109.nc4'\n",
    "ds=xr.open_dataset(file)\n",
    "ds"
   ]
  },
  {
   "cell_type": "code",
   "execution_count": null,
   "id": "3cd9f877-fab7-469e-9442-3b8be09a9100",
   "metadata": {},
   "outputs": [],
   "source": [
    "#surface pressure map\n",
    "plt.figure(1)\n",
    "plt.contourf(ds.PS[0,:,:],30,cmap='jet')\n",
    "plt.xlabel('LONGITUDE INDEX')\n",
    "plt.ylabel('LATITUDE INDEX')\n",
    "plt.title('surface pressure')\n",
    "plt.colorbar()\n",
    "\n",
    "\n",
    "plt.show()"
   ]
  },
  {
   "cell_type": "code",
   "execution_count": null,
   "id": "3a3b96c0-b179-4d7c-9baa-78314fb8dbf8",
   "metadata": {},
   "outputs": [],
   "source": [
    "boulder=ds.sel(time='2009-01-09T18:00:00', lon=-105.7,lat=40,method='nearest')\n",
    "height= -np.log(boulder.lev*0.001)*8.\n",
    "wind_speed=np.sqrt(np.power(boulder.U,2) + np.power(boulder.V,2))\n",
    "north_pole=ds.sel(time='2009-01-09T18:00:00', lon=-105.7,lat=90,method='nearest')\n",
    "wind_speedNP=np.sqrt(np.power(north_pole.U,2) + np.power(north_pole.V,2))"
   ]
  },
  {
   "cell_type": "code",
   "execution_count": null,
   "id": "bd085dcc-79a6-4b7f-9749-462fd924cc54",
   "metadata": {},
   "outputs": [],
   "source": [
    "circular_polar_plot(ds.PS, 50, 'Blues', 'CanESM2 September 1950, Member 1',\n",
    "                    cbar_label='SIC [%]', levels_=np.arange(0,101,1), cbar_levels_=np.arange(0,101,10))"
   ]
  },
  {
   "cell_type": "code",
   "execution_count": null,
   "id": "358dab68-254f-4220-87a2-0a776d1aa3f8",
   "metadata": {},
   "outputs": [],
   "source": [
    "#wind speed in boulder and the north pole\n",
    "plt.plot(height,wind_speed,'go-', label='speed boulder')\n",
    "plt.plot(height,boulder.U,'b:', label='U')\n",
    "plt.plot(height,boulder.V,'r:',label='V')\n",
    "plt.plot(height,wind_speedNP,'ko-', label='speed np')\n",
    "plt.xlabel('Approximate altitude [km]')\n",
    "plt.ylabel('Wind Speed [m/s]')\n",
    "plt.legend()\n",
    "plt.show()"
   ]
  },
  {
   "cell_type": "code",
   "execution_count": null,
   "id": "cb56f20e-a2f9-42f2-93b4-d9007964ce94",
   "metadata": {},
   "outputs": [],
   "source": [
    "#wind speed from south to north pole along longitude 0\n",
    "plt.contourf(ds.U.sel(time='2009-01-09T18:00:00',lon=0,method='nearest'),cmap='jet')\n",
    "plt.xlabel('LATITUDE INDEX')\n",
    "plt.ylabel('ALTITUDE INDEX')\n",
    "plt.colorbar()\n",
    "\n",
    "plt.show()"
   ]
  },
  {
   "cell_type": "code",
   "execution_count": null,
   "id": "d1a8df37-bbf0-4c11-aaca-9326ec89e9e6",
   "metadata": {},
   "outputs": [],
   "source": [
    "#testing wind barbs\n",
    "plt.barbs(boulder.U,boulder.V)"
   ]
  },
  {
   "cell_type": "code",
   "execution_count": null,
   "id": "74aa017f-26b2-4d26-b572-4673198a5134",
   "metadata": {},
   "outputs": [],
   "source": [
    "test=ds.sel(time='2009-01-09T00:00:00', lon=slice(-160,-145),lat=slice(55,90),lev=5)\n",
    "\n",
    "\n",
    "xx, yy = np.meshgrid(test.lon,test.lat)\n",
    "magnitude = (test.U ** 2 + test.V ** 2) ** 0.5"
   ]
  },
  {
   "cell_type": "code",
   "execution_count": null,
   "id": "57581a20-cfad-491a-8b5d-dc4f2233d182",
   "metadata": {},
   "outputs": [],
   "source": [
    "#wind barbs in Alaska at level 5\n",
    "fig = plt.figure(figsize=(20, 30))\n",
    "ax = fig.add_subplot(1, 1, 1, projection=ccrs.PlateCarree())\n",
    "ax.set_extent([-160, -145, 55, 80], crs=ccrs.PlateCarree())\n",
    "ax.coastlines()\n",
    "ax.stock_img()\n",
    "ax.barbs(xx,yy,test.U,test.V, length=6,\n",
    "             sizes=dict(emptybarb=0.25, spacing=0.2, height=0.5),\n",
    "            linewidth=0.95, transform=ccrs.PlateCarree())\n",
    "#ax.streamplot(xx,yy,test.U.to_array(),test.V.to_array(),transform=ccrs.PlateCarree(),linewidth=2, density=2, color=magnitude)\n",
    "plt.show()\n"
   ]
  },
  {
   "cell_type": "code",
   "execution_count": null,
   "id": "94aa5c77-2f45-471d-9210-47cf7ae709f8",
   "metadata": {},
   "outputs": [],
   "source": [
    "np.shape(ds['PS'])"
   ]
  },
  {
   "cell_type": "code",
   "execution_count": null,
   "id": "f19e507b-47e6-47fb-8f54-daec3d4f0d0c",
   "metadata": {},
   "outputs": [],
   "source": []
  }
 ],
 "metadata": {
  "kernelspec": {
   "display_name": "Python 3",
   "language": "python",
   "name": "python3"
  },
  "language_info": {
   "codemirror_mode": {
    "name": "ipython",
    "version": 3
   },
   "file_extension": ".py",
   "mimetype": "text/x-python",
   "name": "python",
   "nbconvert_exporter": "python",
   "pygments_lexer": "ipython3",
   "version": "3.8.10"
  }
 },
 "nbformat": 4,
 "nbformat_minor": 5
}
